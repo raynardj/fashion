{
 "cells": [
  {
   "cell_type": "markdown",
   "metadata": {},
   "source": [
    "# Download Dataset"
   ]
  },
  {
   "cell_type": "code",
   "execution_count": 1,
   "metadata": {},
   "outputs": [],
   "source": [
    "import pandas as pd\n",
    "\n",
    "import os"
   ]
  },
  {
   "cell_type": "code",
   "execution_count": 2,
   "metadata": {},
   "outputs": [
    {
     "data": {
      "text/plain": [
       "0"
      ]
     },
     "execution_count": 2,
     "metadata": {},
     "output_type": "execute_result"
    }
   ],
   "source": [
    "os.system(\"mkdir -p /data\")\n",
    "os.system(\"mkdir -p /data/fashion\")\n",
    "os.system(\"mkdir -p /data/fashion/img\")\n",
    "os.system(\"mkdir -p /data/fashion/img/train\")\n",
    "os.system(\"mkdir -p /data/fashion/img/valid\")"
   ]
  },
  {
   "cell_type": "code",
   "execution_count": 3,
   "metadata": {},
   "outputs": [],
   "source": [
    "COMP  = \"/data/fashion/\"\n",
    "TRAIN = COMP + \"train.csv\"\n",
    "VALID = COMP + \"validation.csv\""
   ]
  },
  {
   "cell_type": "markdown",
   "metadata": {},
   "source": [
    "### Download Train"
   ]
  },
  {
   "cell_type": "code",
   "execution_count": null,
   "metadata": {},
   "outputs": [],
   "source": [
    "train_df = pd.read_csv(TRAIN)\n",
    "\n",
    "print(train_df.sample(5))\n",
    "\n",
    "train_list = train_df.as_matrix().tolist()\n",
    "\n",
    "from PIL import Image\n",
    "\n",
    "def download(element):\n",
    "    try:\n",
    "        iid,url,lbl = element\n",
    "        fn = \"/data/fashion/img/train/%s\"%(str(iid)+\"p_c\"+\"_c\".join(eval(lbl))+\".jpg\")\n",
    "        cmd = \"wget -O %s %s\"%(fn,url)\n",
    "        os.system(cmd)\n",
    "        img = Image.open(fn)\n",
    "        img.resize((320,320)).save(fn)\n",
    "        return 1\n",
    "    except:\n",
    "        return 0\n",
    "\n",
    "from multiprocessing import Pool\n",
    "\n",
    "p=Pool(5)"
   ]
  },
  {
   "cell_type": "code",
   "execution_count": null,
   "metadata": {},
   "outputs": [],
   "source": [
    "result = p.map(download,train_list)\n",
    "print(sum(result))"
   ]
  },
  {
   "cell_type": "markdown",
   "metadata": {},
   "source": [
    "### Download valid"
   ]
  },
  {
   "cell_type": "code",
   "execution_count": null,
   "metadata": {},
   "outputs": [],
   "source": [
    "valid_df = pd.read_csv(VALID)\n",
    "\n",
    "print(valid_df.sample(5))\n",
    "\n",
    "valid_list = valid_df.as_matrix().tolist()\n",
    "\n",
    "from PIL import Image\n",
    "\n",
    "def download(element):\n",
    "    try:\n",
    "        iid,url,lbl = element\n",
    "        fn = \"/data/fashion/img/valid/%s\"%(str(iid)+\"p_c\"+\"_c\".join(eval(lbl))+\".jpg\")\n",
    "        cmd = \"wget -O %s %s\"%(fn,url)\n",
    "        os.system(cmd)\n",
    "        img = Image.open(fn)\n",
    "        img.resize((320,320)).save(fn)\n",
    "        return 1\n",
    "    except:\n",
    "        return 0\n",
    "\n",
    "from multiprocessing import Pool\n",
    "\n",
    "p=Pool(5)"
   ]
  },
  {
   "cell_type": "code",
   "execution_count": null,
   "metadata": {},
   "outputs": [],
   "source": [
    "result = p.map(download,valid_list)\n",
    "print(sum(result))"
   ]
  }
 ],
 "metadata": {
  "kernelspec": {
   "display_name": "Python 3",
   "language": "python",
   "name": "python3"
  },
  "language_info": {
   "codemirror_mode": {
    "name": "ipython",
    "version": 3
   },
   "file_extension": ".py",
   "mimetype": "text/x-python",
   "name": "python",
   "nbconvert_exporter": "python",
   "pygments_lexer": "ipython3",
   "version": "3.6.4"
  }
 },
 "nbformat": 4,
 "nbformat_minor": 2
}
